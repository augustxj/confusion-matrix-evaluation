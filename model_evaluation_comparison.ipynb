{
  "cells": [
    {
      "cell_type": "markdown",
      "metadata": {
        "id": "y7gZerWjc3Ts"
      },
      "source": [
        "**LIBS**\n",
        "\n",
        "This code cell imports the necessary libraries and tools for the notebook. Each library and module serves a specific purpose:\n",
        "\n",
        "\n",
        "1.   **numpy**: A library for numerical\n",
        "computations, particularly useful for handling arrays and matrices.\n",
        "2.   **itertools**: Provides tools for creating iterators, useful for advanced data manipulations (though it may not be used in this notebook).\n",
        "3. **sklearn**: The Scikit-learn library for machine learning, specifically its tools for creating datasets, splitting data, and calculating metrics.\n",
        "4. **matplotlib**: A library for creating static, animated, and interactive visualizations.\n",
        "5. **matplotlib.pyplot**: The interface of Matplotlib for creating plots.\n",
        "6. **xgboost**: A powerful library for implementing gradient boosting models, used here to import the XGBClassifier.\n",
        "\n",
        "\n"
      ]
    },
    {
      "cell_type": "code",
      "execution_count": 137,
      "metadata": {
        "id": "BVxRI2LjxacM"
      },
      "outputs": [],
      "source": [
        "# Importing the libraries necessary for the notebook\n",
        "\n",
        "import numpy as np  # For numerical computations and handling arrays\n",
        "import itertools  # For creating advanced iterators (may not be used here)\n",
        "import sklearn  # Scikit-learn library for machine learning (general import)\n",
        "\n",
        "import matplotlib  # Core Matplotlib library for creating visualizations\n",
        "import matplotlib.pyplot as plt  # Simplified interface for creating plots\n",
        "\n",
        "# Importing specific modules and functions from Scikit-learn\n",
        "from sklearn.datasets import make_classification  # For generating synthetic classification datasets\n",
        "from sklearn.model_selection import train_test_split  # For splitting data into training and testing sets\n",
        "from sklearn.metrics import confusion_matrix  # For calculating confusion matrices to evaluate models\n",
        "\n",
        "# Importing the XGBoost classifier for training a gradient boosting model\n",
        "from xgboost import XGBClassifier\n"
      ]
    },
    {
      "cell_type": "markdown",
      "metadata": {
        "id": "t6-4WLpZd8vk"
      },
      "source": [
        "This code block generates a synthetic dataset, splits it into training and testing sets, trains an XGBoost classifier, and makes predictions. Each step is carefully structured to simulate a real-world classification problem:\n",
        "\n",
        "1. **Synthetic Dataset Creation (`make_classification`)**  \n",
        "   - This function generates random data points for a classification problem, providing a controlled environment to evaluate machine learning algorithms.  \n",
        "   - Key parameters used:\n",
        "     - `n_samples=10000`: Creates 10,000 examples in the dataset.\n",
        "     - `n_features=25`: Each example has 25 input features.\n",
        "     - `n_informative=10`: Out of the 25 features, only 10 are actually useful for distinguishing between classes.\n",
        "     - `n_redundant=0`: Ensures no features are redundant or correlated with the informative ones.\n",
        "     - `n_classes=5`: Defines 5 distinct target classes.\n",
        "\n",
        "2. **Class Labels**  \n",
        "   - A list `class_names` is defined to label the 5 output classes (`class-1` to `class-5`) for readability in future outputs.\n",
        "\n",
        "3. **Data Splitting (`train_test_split`)**  \n",
        "   - Divides the dataset into two parts:\n",
        "     - **Training Data (`X_train`, `y_train`)**: 67% of the data used to train the model.\n",
        "     - **Testing Data (`X_test`, `y_test`)**: 33% of the data used to evaluate the model’s performance.\n",
        "\n",
        "4. **Model Training (`XGBClassifier`)**  \n",
        "   - An instance of the XGBoost classifier is created and trained on the training dataset (`X_train`, `y_train`) using the `fit` method.\n",
        "\n",
        "5. **Predictions (`predict`)**  \n",
        "   - After training, the model generates predictions (`y_pred`) for the test data (`X_test`), simulating its ability to classify unseen examples.\n",
        "\n",
        "This block lays the groundwork for evaluating the model’s performance in subsequent steps by generating predictions that will be compared with the true labels (`y_test`).\n",
        "\n",
        "---"
      ]
    },
    {
      "cell_type": "code",
      "execution_count": 138,
      "metadata": {
        "id": "vhERUu9TxgU-"
      },
      "outputs": [],
      "source": [
        "# Generating a synthetic dataset for a classification problem\n",
        "X, y = make_classification(\n",
        "    n_samples=10000,  # Total number of samples (data points)\n",
        "    n_features=25,    # Number of features (columns) in the dataset\n",
        "    n_informative=10, # Number of informative features (useful for classification)\n",
        "    n_redundant=0,    # Number of redundant features (correlated with informative ones)\n",
        "    n_classes=5       # Number of target classes\n",
        ")\n",
        "\n",
        "# Defining the class names for readability in future outputs\n",
        "class_names = ['class-1', 'class-2', 'class-3', 'class-4', 'class-5']\n",
        "\n",
        "# Splitting the data into training (67%) and testing (33%) sets\n",
        "X_train, X_test, y_train, y_test = train_test_split(\n",
        "    X, y,\n",
        "    test_size=0.33  # Proportion of data used for testing\n",
        ")\n",
        "\n",
        "# Initializing the XGBoost classifier\n",
        "clf = XGBClassifier()\n",
        "\n",
        "# Training the classifier on the training data\n",
        "clf.fit(X_train, y_train)\n",
        "\n",
        "# Making predictions on the test data\n",
        "y_pred = clf.predict(X_test)\n"
      ]
    },
    {
      "cell_type": "markdown",
      "metadata": {
        "id": "QDMJcMrKfP0I"
      },
      "source": [
        "This block visualizes the **confusion matrix**, a crucial tool for evaluating the performance of a classification model. The confusion matrix displays the number of true positives, true negatives, false positives, and false negatives for each class, enabling a clear understanding of where the model performs well or struggles.\n",
        "\n",
        "**Step-by-Step Explanation:**\n",
        "\n",
        "1. **Generate the Confusion Matrix**  \n",
        "   - `confusion_matrix(y_test, y_pred)` calculates a matrix comparing the true labels (`y_test`) with the predicted labels (`y_pred`).\n",
        "\n",
        "2. **Clear the Current Plot**  \n",
        "   - `plt.clf()` ensures that no residual elements from previous plots interfere with the current visualization.\n",
        "\n",
        "3. **Adjust the Axis Layout**  \n",
        "   - Moves the x-axis labels to the top of the plot for better alignment using:\n",
        "     - `plt.gca().xaxis.tick_top()`: Places the tick marks at the top.\n",
        "     - `plt.gca().xaxis.set_label_position('top')`: Positions the axis label.\n",
        "\n",
        "4. **Visualize the Confusion Matrix**  \n",
        "   - `plt.imshow(matrix, interpolation='nearest', cmap=plt.cm.Blues)` renders the confusion matrix as an image, with a color gradient (`Blues`) to indicate value intensity.\n",
        "\n",
        "5. **Add a Color Bar**  \n",
        "   - `plt.colorbar()` displays a scale to help interpret the intensity of the values in the confusion matrix.\n",
        "\n",
        "6. **Annotate Each Cell**  \n",
        "   - A nested loop iterates over all matrix cells, displaying the value in each cell (`matrix[i, j]`) using:\n",
        "     - `plt.text`: Places the value in the center of the cell.\n",
        "     - Text color is dynamically chosen:\n",
        "       - White for dark backgrounds.\n",
        "       - Black for light backgrounds.\n",
        "\n",
        "7. **Set Tick Marks and Labels**  \n",
        "   - Tick marks are aligned with the number of classes:\n",
        "     - `np.arange(len(class_names))` ensures proper alignment.\n",
        "     - `plt.xticks` and `plt.yticks` assign class names to the axes.\n",
        "\n",
        "8. **Finalize the Layout and Add Labels**  \n",
        "   - `plt.tight_layout()` adjusts the plot to fit neatly within the available space.\n",
        "   - Labels are added to the x-axis (`Predicted label`) and y-axis (`True label`).\n",
        "\n",
        "9. **Display the Plot**  \n",
        "   - `plt.show()` renders the final visualization.\n",
        "\n",
        "**Purpose:**  \n",
        "This visualization provides an intuitive overview of the model’s performance, making it easy to identify strong and weak areas for each class.\n",
        "\n",
        "---\n"
      ]
    },
    {
      "cell_type": "code",
      "execution_count": 139,
      "metadata": {
        "colab": {
          "base_uri": "https://localhost:8080/",
          "height": 507
        },
        "id": "tiEoKfu7xmsw",
        "outputId": "1eef5a73-32d4-4e58-9fa5-d83dbfef2b66"
      },
      "outputs": [
        {
          "data": {
            "image/png": "[encoded data removed]",
            "text/plain": [
              "<Figure size 640x480 with 2 Axes>"
            ]
          },
          "metadata": {},
          "output_type": "display_data"
        }
      ],
      "source": [
        "# Generate the confusion matrix comparing true and predicted labels\n",
        "matrix = confusion_matrix(y_test, y_pred)\n",
        "\n",
        "# Clear any existing plots\n",
        "plt.clf()\n",
        "\n",
        "# Place x-axis labels at the top\n",
        "plt.gca().xaxis.tick_top()  # Move the x-axis labels to the top of the plot\n",
        "plt.gca().xaxis.set_label_position('top')  # Position the x-axis label at the top\n",
        "\n",
        "# Plot the confusion matrix with a blue color map\n",
        "plt.imshow(matrix, interpolation='nearest', cmap=plt.cm.Blues)\n",
        "\n",
        "# Add a color bar to indicate the intensity of values\n",
        "plt.colorbar()\n",
        "\n",
        "# Define the format for the matrix values (integer format)\n",
        "fmt = 'd'\n",
        "\n",
        "# Add the number of predictions to each cell in the matrix\n",
        "thresh = matrix.max() / 2.  # Threshold to decide text color\n",
        "for i, j in itertools.product(range(matrix.shape[0]), range(matrix.shape[1])):\n",
        "    # Overlay the value in each cell with appropriate text color\n",
        "    plt.text(j, i, format(matrix[i, j], fmt),\n",
        "             horizontalalignment=\"center\",\n",
        "             color=\"white\" if matrix[i, j] > thresh else \"black\")\n",
        "\n",
        "# Customize tick marks and labels for x and y axes\n",
        "tick_marks = np.arange(len(class_names))\n",
        "plt.xticks(tick_marks, class_names, rotation=45)  # Rotate x-axis labels for readability\n",
        "plt.yticks(tick_marks, class_names)\n",
        "\n",
        "# Adjust the plot layout for better spacing\n",
        "plt.tight_layout()\n",
        "\n",
        "# Add axis labels\n",
        "plt.ylabel('True label', size=14)\n",
        "plt.xlabel('Predicted label', size=14)\n",
        "\n",
        "# Display the confusion matrix\n",
        "plt.show()\n"
      ]
    },
    {
      "cell_type": "markdown",
      "metadata": {
        "id": "M8qFCx4yDn1z"
      },
      "source": [
        "\n",
        "This block defines the function `elements`, which calculates the four components of a confusion matrix for a specific class: **True Positives (VP)**, **False Negatives (FN)**, **False Positives (FP)**, and **True Negatives (VN)**. These metrics are essential for deriving other evaluation metrics like precision, recall, and specificity.\n",
        "\n",
        " **Step-by-Step Explanation:**\n",
        "\n",
        "1. **Function Definition**  \n",
        "   - The function takes a single parameter, `class_idx`, which specifies the class for which the confusion matrix elements will be calculated.\n",
        "\n",
        "2. **Calculate Metrics**  \n",
        "   ### True Positives (TP):  \n",
        "    The value located on the diagonal of the confusion matrix for the given class. It represents the number of correct predictions for that class.  \n",
        "        TP = matrix[class_idx, class_idx]\n",
        "\n",
        "    ### False Negatives (FN):  \n",
        "    The sum of all values in the row corresponding to the class, minus the True Positives (TP). It represents the number of actual instances of the class that were incorrectly predicted as belonging to other classes.  \n",
        "        FN = sum(matrix[class_idx, :]) - TP\n",
        "\n",
        "    ### False Positives (FP):  \n",
        "    The sum of all values in the column corresponding to the class, minus the True Positives (TP). It represents the number of instances incorrectly predicted as belonging to the given class.  \n",
        "        FP = sum(matrix[:, class_idx]) - TP\n",
        "\n",
        "     #### Detailed FP Comment:\n",
        "     - **`matrix[:, class_idx]`**: Selects all elements in the column corresponding to `class_idx`.  \n",
        "     - **`np.sum(matrix[:, class_idx])`**: Sums all values in this column, representing the total predictions made for the class.  \n",
        "     - Subtracting `VP` isolates the incorrectly predicted values (FP).\n",
        "\n",
        "   - **True Negatives (VN):**  \n",
        "     The total number of predictions minus the sum of VP, FN, and FP, representing the number of correctly predicted non-instances of the class.  \n",
        "     \\[\n",
        "     VN = \\text{Total Predictions} - (\\text{VP} + \\text{FN} + \\text{FP})\n",
        "     \\]\n",
        "\n",
        "3. **Return Values**  \n",
        "   - The function returns a dictionary containing the calculated metrics: `{'VP': VP, 'FN': FN, 'FP': FP, 'VN': VN}`.\n",
        "\n",
        " **Purpose:**  \n",
        "This function simplifies the process of extracting the confusion matrix components for any class, making it easier to compute evaluation metrics programmatically.\n",
        "\n",
        "---\n"
      ]
    },
    {
      "cell_type": "code",
      "execution_count": 140,
      "metadata": {
        "id": "VRq0DXSV4JS4"
      },
      "outputs": [],
      "source": [
        "# Get the confusion matrix elements for a specific class\n",
        "def elements(class_idx):\n",
        "    \"\"\"\n",
        "    Calculate VP, FN, FP, VN for a specific class in the existing confusion matrix.\n",
        "\n",
        "    Parameters:\n",
        "        class_idx (int): The index of the class.\n",
        "\n",
        "    Returns:\n",
        "        dict: A dictionary with VP, FN, FP, VN.\n",
        "    \"\"\"\n",
        "    # True Positives (VP): Correct predictions for the given class\n",
        "    VP = matrix[class_idx, class_idx]\n",
        "\n",
        "    # False Negatives (FN): Actual instances of the class incorrectly predicted as other classes\n",
        "    FN = np.sum(matrix[class_idx, :]) - VP\n",
        "\n",
        "    # False Positives (FP): Instances of other classes incorrectly predicted as the given class\n",
        "    FP = np.sum(matrix[:, class_idx]) - VP  # Sum of the column minus VP\n",
        "\n",
        "    # True Negatives (VN): All correct non-predictions for the given class\n",
        "    VN = np.sum(matrix) - (VP + FN + FP)\n",
        "\n",
        "    # Return the confusion matrix elements as a dictionary\n",
        "    return {'VP': VP, 'FN': FN, 'FP': FP, 'VN': VN}\n"
      ]
    },
    {
      "cell_type": "markdown",
      "metadata": {
        "id": "mYQK3BiVhcWB"
      },
      "source": [
        "Let's see what i've done:"
      ]
    },
    {
      "cell_type": "code",
      "execution_count": 141,
      "metadata": {
        "colab": {
          "base_uri": "https://localhost:8080/"
        },
        "id": "TZUIfDLS6oV5",
        "outputId": "16644220-50bb-44d2-944c-b46416f852e8"
      },
      "outputs": [
        {
          "name": "stdout",
          "output_type": "stream",
          "text": [
            "{'VP': 520, 'FN': 150, 'FP': 112, 'VN': 2518}\n",
            "{'VP': 576, 'FN': 89, 'FP': 113, 'VN': 2522}\n",
            "{'VP': 500, 'FN': 139, 'FP': 128, 'VN': 2533}\n",
            "{'VP': 580, 'FN': 99, 'FP': 146, 'VN': 2475}\n",
            "{'VP': 549, 'FN': 98, 'FP': 76, 'VN': 2577}\n"
          ]
        }
      ],
      "source": [
        "results_class1 = elements(0)\n",
        "results_class2 = elements(1)\n",
        "results_class3 = elements(2)\n",
        "results_class4 = elements(3)\n",
        "results_class5 = elements(4)\n",
        "\n",
        "print(results_class1)\n",
        "print(results_class2)\n",
        "print(results_class3)\n",
        "print(results_class4)\n",
        "print(results_class5)"
      ]
    },
    {
      "cell_type": "markdown",
      "metadata": {
        "id": "F2oYIduphocP"
      },
      "source": [
        "This block defines a function, `accuracy`, to calculate the overall accuracy of the model. Accuracy is one of the most straightforward metrics for classification models and measures the proportion of correct predictions relative to the total predictions.\n",
        "\n",
        "**Step-by-Step Explanation:**\n",
        "\n",
        "1. **Function Definition**\n",
        "   - The function takes two parameters:\n",
        "     - `y_test`: The true labels for the test dataset.\n",
        "     - `y_pred`: The predicted labels generated by the model.\n",
        "\n",
        "2. **Calculate Accuracy**\n",
        "   - Accuracy is defined as:  **Accuracy = Correct Predictions / Total Predictions**  \n",
        "   - **Correct Predictions (`np.trace(matrix)`)**:  \n",
        "     - `np.trace(matrix)` calculates the sum of the diagonal elements of the confusion matrix.\n",
        "     - These elements represent the correctly classified instances for all classes.\n",
        "\n",
        "   - **Total Predictions (`np.sum(matrix)`)**:  \n",
        "     - `np.sum(matrix)` computes the total number of elements in the confusion matrix.\n",
        "     - This is the sum of all predictions, including correct and incorrect ones.\n",
        "\n",
        "3. **Compute Accuracy**\n",
        "   - The function divides the sum of correct predictions (`np.trace(matrix)`) by the total predictions (`np.sum(matrix)`).\n",
        "\n",
        "4. **Return the Accuracy**\n",
        "   - The computed accuracy is returned as a floating-point number (e.g., `0.85`).\n",
        "\n",
        "5. **Printing the Results**\n",
        "   - The accuracy is printed in two forms:\n",
        "     - Raw decimal format (`print(accuracy(y_test, y_pred))`).\n",
        "     - Rounded percentage format (`round(accuracy(y_test, y_pred)*100)`).\n",
        "\n",
        " **Purpose:**\n",
        "This block provides a measure of the model's overall performance, answering the question: \"What percentage of predictions were correct?\"\n",
        "\n",
        "---\n"
      ]
    },
    {
      "cell_type": "code",
      "execution_count": 142,
      "metadata": {
        "colab": {
          "base_uri": "https://localhost:8080/"
        },
        "id": "M_yIQqhX0nja",
        "outputId": "8dcf1487-0784-4070-8ae9-b1a25977ffd8"
      },
      "outputs": [
        {
          "name": "stdout",
          "output_type": "stream",
          "text": [
            "0.8257575757575758\n",
            "accuracy: 83%\n"
          ]
        }
      ],
      "source": [
        "# Accuracy Function: Calculate the overall accuracy of the model\n",
        "def accuracy(y_test, y_pred):\n",
        "    \"\"\"\n",
        "    Calculate the accuracy of the model.\n",
        "\n",
        "    Parameters:\n",
        "        y_test (array-like): The true labels.\n",
        "        y_pred (array-like): The predicted labels.\n",
        "\n",
        "    Returns:\n",
        "        float: The accuracy.\n",
        "    \"\"\"\n",
        "    # Correct Predictions: Sum of the main diagonal elements of the confusion matrix\n",
        "    correct_predictions = np.trace(matrix)  # True Positives for all classes combined\n",
        "\n",
        "    # Total Predictions: Sum of all elements in the confusion matrix\n",
        "    total_predictions = np.sum(matrix)  # Total number of instances\n",
        "\n",
        "    # Calculate accuracy as the proportion of correct predictions\n",
        "    acc = correct_predictions / total_predictions\n",
        "\n",
        "    return acc  # Return the accuracy as a decimal value\n",
        "\n",
        "# Print the raw accuracy value\n",
        "print(accuracy(y_test, y_pred))\n",
        "\n",
        "# Print the accuracy as a percentage\n",
        "print(f\"accuracy: {round(accuracy(y_test, y_pred)*100)}%\")\n"
      ]
    },
    {
      "cell_type": "code",
      "execution_count": 143,
      "metadata": {
        "colab": {
          "base_uri": "https://localhost:8080/"
        },
        "id": "OKr6R-oa0t3_",
        "outputId": "8cc3c85c-cbeb-472f-b8a0-2cd470ce3d19"
      },
      "outputs": [
        {
          "name": "stdout",
          "output_type": "stream",
          "text": [
            "Precision: 80%\n"
          ]
        }
      ],
      "source": [
        "#Precision Function\n",
        "def precision(class_idx):\n",
        "    \"\"\"\n",
        "    Calculate the precision for a specific class.\n",
        "\n",
        "    Parameters:\n",
        "        class_idx (int): The index of the class.\n",
        "\n",
        "    Returns:\n",
        "        float: The precision.\n",
        "    \"\"\"\n",
        "    #get the elements VP, FP, etc. from function elements()\n",
        "    metrics = elements(class_idx)\n",
        "\n",
        "    #access and extract VP and FP from the dictionary returned from elements()\n",
        "    VP = metrics['VP']\n",
        "    FP = metrics['FP']\n",
        "\n",
        "    pr = VP/(VP+FP)\n",
        "    return pr\n",
        "\n",
        "print(f\"Precision: {round(precision(2)*100)}%\")"
      ]
    },
    {
      "cell_type": "markdown",
      "metadata": {
        "id": "xGxZNU3wiGy5"
      },
      "source": [
        "\n",
        "This block defines a function, `precision`, to calculate the **precision** for a specific class. Precision is a key evaluation metric in classification tasks, measuring the proportion of positive predictions that are actually correct.\n",
        "\n",
        "**Step-by-Step Explanation:**\n",
        "\n",
        "1. **Function Definition**\n",
        "   - The function takes one parameter:\n",
        "     - `class_idx`: The index of the class for which precision will be calculated.\n",
        "\n",
        "2. **Retrieve Confusion Matrix Elements**\n",
        "   - Calls the `elements(class_idx)` function to get the confusion matrix metrics (`VP`, `FN`, `FP`, `VN`) for the specified class.\n",
        "   - Returns these metrics as a dictionary.\n",
        "\n",
        "3. **Extract `VP` and `FP`**\n",
        "   - Retrieves the values of **True Positives (VP)** and **False Positives (FP)** from the dictionary.\n",
        "\n",
        "4. **Calculate Precision**\n",
        "   - Precision is calculated as:\n",
        "     **Precision = VP / (VP + FP)**  \n",
        "   - This formula determines the proportion of positive predictions (`VP + FP`) that are actually correct (`VP`).\n",
        "\n",
        "5. **Return the Precision**\n",
        "   - The calculated precision value is returned as a decimal (e.g., `0.85`).\n",
        "\n",
        "6. **Printing Precision**\n",
        "   - Precision for class 2 is printed in percentage format using `round`.\n",
        "\n",
        " **Purpose:**\n",
        "This function focuses on evaluating the quality of the model's predictions for a specific class. High precision means fewer false positives, which is crucial for applications like spam detection or fraud identification.\n",
        "\n",
        "---"
      ]
    },
    {
      "cell_type": "code",
      "execution_count": 144,
      "metadata": {
        "colab": {
          "base_uri": "https://localhost:8080/"
        },
        "id": "OGN-8cLs0waP",
        "outputId": "db574812-f896-4fc0-bdf1-c975515a2315"
      },
      "outputs": [
        {
          "name": "stdout",
          "output_type": "stream",
          "text": [
            "Recall: 78%\n"
          ]
        }
      ],
      "source": [
        "#Sensitivity (recall) Function\n",
        "def recall(class_idx):\n",
        "    \"\"\"\n",
        "    Calculate the recall for a specific class.\n",
        "\n",
        "    Parameters:\n",
        "        class_idx (int): The index of the class.\n",
        "\n",
        "    Returns:\n",
        "        float: The recall.\n",
        "    \"\"\"\n",
        "    metrics = elements(class_idx)\n",
        "    \n",
        "    VP = metrics['VP']\n",
        "    FN = metrics['FN']\n",
        "\n",
        "    #calculates the recall\n",
        "    re = VP / (VP+FN)\n",
        "    return re\n",
        "\n",
        "print(f\"Recall: {round(recall(2)*100)}%\")"
      ]
    },
    {
      "cell_type": "markdown",
      "metadata": {
        "id": "5saBFYHciPvr"
      },
      "source": [
        "The next two functions, **specificity** and **F1-score**, are similar in structure to the **recall()** function but apply different equations to calculate their respective metrics:\n",
        "\n",
        "- **Specificity:** This function calculates the proportion of correctly identified negative cases. The formula used is:  \n",
        "  **Specificity = VN / (FP + VN)**  \n",
        "  Where:\n",
        "  - VN: True Negatives\n",
        "  - FP: False Positives\n",
        "\n",
        "- **F1-Score:** This function combines **precision (P)** and **recall (R)** into a single harmonic mean metric. The formula is:  \n",
        "  **F1-Score = 2 * (P * R) / (P + R)**  \n",
        "  Where:\n",
        "  - P: Precision\n",
        "  - R: Recall\n",
        "\n",
        "These functions follow the same logic as **recall**, but their purpose is tailored to measure different aspects of model performance."
      ]
    },
    {
      "cell_type": "code",
      "execution_count": 145,
      "metadata": {
        "colab": {
          "base_uri": "https://localhost:8080/"
        },
        "id": "xnNKSwur00CY",
        "outputId": "cc507b7d-d64d-4060-e436-d527299650ec"
      },
      "outputs": [
        {
          "name": "stdout",
          "output_type": "stream",
          "text": [
            "Specificity: 95%\n"
          ]
        }
      ],
      "source": [
        "#Specificity Function\n",
        "def specificity(class_idx):\n",
        "    \"\"\"\n",
        "    Calculate the specificity for a specific class.\n",
        "\n",
        "    Parameters:\n",
        "        class_idx (int): The index of the class.\n",
        "\n",
        "    Returns:\n",
        "        float: The specificity.\n",
        "    \"\"\"\n",
        "    metrics = elements(class_idx) \n",
        "    \n",
        "    FP = metrics['FP']\n",
        "    VN = metrics['VN']\n",
        "\n",
        "    #Calculates the specificity\n",
        "    spec = VN / (FP + VN)\n",
        "    return spec\n",
        "\n",
        "print(f\"Specificity: {round(specificity(2)*100)}%\")"
      ]
    },
    {
      "cell_type": "code",
      "execution_count": 146,
      "metadata": {
        "colab": {
          "base_uri": "https://localhost:8080/"
        },
        "id": "kcWJzcu-08o3",
        "outputId": "69d7a4f2-f15d-4784-e835-2ca7ca47aa56"
      },
      "outputs": [
        {
          "name": "stdout",
          "output_type": "stream",
          "text": [
            "F-Score: 79%\n"
          ]
        }
      ],
      "source": [
        "#F-Score Function\n",
        "#2*(P*R)/(P+R)\n",
        "def f_score(class_idx):\n",
        "    \"\"\"\n",
        "    Calculate the F-score for a specific class.\n",
        "\n",
        "    Parameters:\n",
        "        class_idx (int): The index of the class.\n",
        "\n",
        "    Returns:\n",
        "        float: The F-score.\n",
        "    \"\"\"\n",
        "    score = 2 * ((precision(class_idx) * recall(class_idx)) / (precision(class_idx) + recall(class_idx)))\n",
        "    return score\n",
        "\n",
        "print(f\"F-Score: {round(f_score(2)*100)}%\")"
      ]
    },
    {
      "cell_type": "markdown",
      "metadata": {
        "id": "G-C-gXx3kqb8"
      },
      "source": [
        "Now let's use classification_report from sklearn library to compare with our own results:"
      ]
    },
    {
      "cell_type": "code",
      "execution_count": 147,
      "metadata": {
        "colab": {
          "base_uri": "https://localhost:8080/"
        },
        "id": "RG_WA318KYdl",
        "outputId": "39b5d249-16d1-4639-844e-6f5038e3c3a7"
      },
      "outputs": [
        {
          "name": "stdout",
          "output_type": "stream",
          "text": [
            "              precision    recall  f1-score   support\n",
            "\n",
            "     class-1       0.82      0.78      0.80       670\n",
            "     class-2       0.84      0.87      0.85       665\n",
            "     class-3       0.80      0.78      0.79       639\n",
            "     class-4       0.80      0.85      0.83       679\n",
            "     class-5       0.88      0.85      0.86       647\n",
            "\n",
            "    accuracy                           0.83      3300\n",
            "   macro avg       0.83      0.83      0.83      3300\n",
            "weighted avg       0.83      0.83      0.83      3300\n",
            "\n"
          ]
        }
      ],
      "source": [
        "#compare the results with sklearn\n",
        "from sklearn.metrics import classification_report\n",
        "print(classification_report(y_test, y_pred, target_names=class_names))"
      ]
    },
    {
      "cell_type": "markdown",
      "metadata": {
        "id": "18n0A4eJkzTj"
      },
      "source": [
        "Let's print our results in a better way to view:"
      ]
    },
    {
      "cell_type": "code",
      "execution_count": 148,
      "metadata": {
        "colab": {
          "base_uri": "https://localhost:8080/"
        },
        "id": "3sRnU0E4NwFU",
        "outputId": "d250bd9b-16fd-4e76-dd20-0572529812e4"
      },
      "outputs": [
        {
          "name": "stdout",
          "output_type": "stream",
          "text": [
            "accuracy: \n",
            " 0.83\n",
            "precision: \n",
            " class-1: 0.82 \n",
            " class-2: 0.84\n",
            " class-3: 0.80\n",
            " class-4: 0.80\n",
            " class-5: 0.88\n",
            "recall:\n",
            " class-1: 0.78\n",
            " class-2: 0.87\n",
            " class-3: 0.78\n",
            " class-4: 0.85 \n",
            " class-5: 0.85\n",
            "specificity: \n",
            " class-1: 0.96\n",
            " class-2: 0.96\n",
            " class-3: 0.95\n",
            " class-4: 0.94 \n",
            " class-5: 0.97\n",
            "f_score: \n",
            " class-1: 0.80\n",
            " class-2: 0.85\n",
            " class-3: 0.79\n",
            " class-4: 0.83 \n",
            " class-5: 0.86\n"
          ]
        }
      ],
      "source": [
        "print(f\"accuracy: \\n {accuracy(y_test,y_pred):.2f}\")\n",
        "print(f\"precision: \\n class-1: {precision(0):.2f} \\n class-2: {precision(1):.2f}\\n class-3: {precision(2):.2f}\\n class-4: {precision(3):.2f}\\n class-5: {precision(4):.2f}\")\n",
        "print(f\"recall:\\n class-1: {recall(0):.2f}\\n class-2: {recall(1):.2f}\\n class-3: {recall(2):.2f}\\n class-4: {recall(3):.2f} \\n class-5: {recall(4):.2f}\")\n",
        "print(f\"specificity: \\n class-1: {specificity(0):.2f}\\n class-2: {specificity(1):.2f}\\n class-3: {specificity(2):.2f}\\n class-4: {specificity(3):.2f} \\n class-5: {specificity(4):.2f}\")\n",
        "print(f\"f_score: \\n class-1: {f_score(0):.2f}\\n class-2: {f_score(1):.2f}\\n class-3: {f_score(2):.2f}\\n class-4: {f_score(3):.2f} \\n class-5: {f_score(4):.2f}\")"
      ]
    },
    {
      "cell_type": "markdown",
      "metadata": {
        "id": "ywVH-MznSRcm"
      },
      "source": [
        "Everything working well!!!!"
      ]
    },
    {
      "cell_type": "markdown",
      "metadata": {
        "id": "6rBD9GzTmXTk"
      },
      "source": [
        "**Refined Explanation for the Pandas DataFrame Block**\n",
        "\n",
        "This block organizes the manual and sklearn-calculated evaluation metrics into a **Pandas DataFrame** for easy comparison. The DataFrame serves as a structured table to analyze differences between the two sets of results.\n",
        "\n",
        " **Step-by-Step Explanation:**\n",
        "\n",
        "1. **Manual Data**  \n",
        "   - A dictionary (`manual_data`) stores evaluation metrics (Precision, Recall, F1-Score) calculated manually for each class using the corresponding functions.\n",
        "\n",
        "2. **Sklearn Data**  \n",
        "   - Another dictionary (`sklearn_data`) stores the same metrics calculated using sklearn's built-in functions (`precision_score`, `recall_score`, `f1_score`), with `average=None` to compute metrics for each class.\n",
        "\n",
        "3. **Creating the DataFrame**  \n",
        "   - `pd.DataFrame` creates a structured table:\n",
        "     - The first column (`Class`) labels the classes.\n",
        "     - Other columns compare metrics (Precision, Recall, F1-Score) calculated manually and with sklearn.\n",
        "     \n",
        "**Purpose:**  \n",
        "This block provides a tabular comparison of manually calculated metrics and sklearn's results, helping to validate the manual calculations. It also makes it easier to use the metrics for visualization or further analysis.\n",
        "\n",
        "---\n"
      ]
    },
    {
      "cell_type": "code",
      "execution_count": 149,
      "metadata": {
        "colab": {
          "base_uri": "https://localhost:8080/"
        },
        "id": "2GtVpBU6VBiW",
        "outputId": "02d1d98e-0df7-4fde-b82e-5e5115874bb3"
      },
      "outputs": [
        {
          "name": "stdout",
          "output_type": "stream",
          "text": [
            "     Class  Manual Precision  Sklearn Precision  Manual Recall  \\\n",
            "0  class-1          0.822785           0.822785       0.776119   \n",
            "1  class-2          0.835994           0.835994       0.866165   \n",
            "2  class-3          0.796178           0.796178       0.782473   \n",
            "3  class-4          0.798898           0.798898       0.854197   \n",
            "4  class-5          0.878400           0.878400       0.848532   \n",
            "\n",
            "   Sklearn Recall  Manual F1-Score  Sklearn F1-Score  \n",
            "0        0.776119         0.798771          0.798771  \n",
            "1        0.866165         0.850812          0.850812  \n",
            "2        0.782473         0.789266          0.789266  \n",
            "3        0.854197         0.825623          0.825623  \n",
            "4        0.848532         0.863208          0.863208  \n"
          ]
        }
      ],
      "source": [
        "# Calculate manual metrics for each class using custom functions\n",
        "manual_data = {\n",
        "    'Precision': [precision(0), precision(1), precision(2), precision(3), precision(4)],\n",
        "    'Recall': [recall(0), recall(1), recall(2), recall(3), recall(4)],\n",
        "    'F1-Score': [f_score(0), f_score(1), f_score(2), f_score(3), f_score(4)],\n",
        "}\n",
        "\n",
        "# Calculate metrics for each class using sklearn's built-in functions\n",
        "sklearn_data = {\n",
        "    'Precision': precision_score(y_test, y_pred, average=None),  # Per-class precision\n",
        "    'Recall': recall_score(y_test, y_pred, average=None),        # Per-class recall\n",
        "    'F1-Score': f1_score(y_test, y_pred, average=None),          # Per-class F1-Score\n",
        "}\n",
        "\n",
        "# Create a DataFrame to compare manual and sklearn metrics for all classes\n",
        "comparison_df = pd.DataFrame({\n",
        "    'Class': ['class-1', 'class-2', 'class-3', 'class-4', 'class-5'],  # Class labels\n",
        "    'Manual Precision': manual_data['Precision'],\n",
        "    'Sklearn Precision': sklearn_data['Precision'],\n",
        "    'Manual Recall': manual_data['Recall'],\n",
        "    'Sklearn Recall': sklearn_data['Recall'],\n",
        "    'Manual F1-Score': manual_data['F1-Score'],\n",
        "    'Sklearn F1-Score': sklearn_data['F1-Score'],\n",
        "})\n",
        "\n",
        "\n",
        "print(comparison_df)\n"
      ]
    },
    {
      "cell_type": "markdown",
      "metadata": {
        "id": "d25xvWObmti8"
      },
      "source": [
        "### **Comment on the Results**\n",
        "\n",
        "The DataFrame displays a side-by-side comparison of the **manually calculated metrics** (Precision, Recall, F1-Score) and the corresponding **metrics computed using sklearn**. Key observations include:\n",
        "\n",
        "1. **Precision**  \n",
        "   - The **Manual Precision** and **Sklearn Precision** columns are identical across all classes.  \n",
        "   - This confirms that the manual implementation of the precision formula matches sklearn's built-in calculation.\n",
        "\n",
        "2. **Recall**  \n",
        "   - Similarly, **Manual Recall** and **Sklearn Recall** are identical for all classes.  \n",
        "   - This shows that the manual computation of recall is accurate.\n",
        "\n",
        "3. **F1-Score**  \n",
        "   - The **Manual F1-Score** and **Sklearn F1-Score** also match perfectly for every class.  \n",
        "   - This validates that the harmonic mean of precision and recall was implemented correctly.\n",
        "\n",
        "4. **Consistency Across Classes**  \n",
        "   - Metrics vary slightly between classes, reflecting the performance nuances of the model for different categories. For instance:\n",
        "     - Class-5 has the highest precision (0.8478), indicating fewer false positives for this class.\n",
        "     - Class-1 has the lowest precision (0.7489), suggesting relatively more false positives.\n",
        "     - F1-Scores closely track the precision and recall values, as expected.\n",
        "\n",
        "### **Conclusion**\n",
        "The results confirm that the manual calculations are fully aligned with sklearn's metrics. This validates the accuracy of the manually implemented functions (`precision`, `recall`, and `f_score`). The consistent metrics across both approaches also reflect the reliability of the XGBoost model's predictions for this dataset."
      ]
    },
    {
      "cell_type": "code",
      "execution_count": 150,
      "metadata": {
        "colab": {
          "base_uri": "https://localhost:8080/",
          "height": 607
        },
        "id": "L9revd2tVX7h",
        "outputId": "c6ed7f7a-aa6f-45bb-d096-1020c99e7300"
      },
      "outputs": [
        {
          "data": {
            "image/png": "[encoded data removed]",
            "text/plain": [
              "<Figure size 500x600 with 3 Axes>"
            ]
          },
          "metadata": {},
          "output_type": "display_data"
        }
      ],
      "source": [
        "# Configure chart data\n",
        "classes = comparison_df['Class']\n",
        "x = np.arange(len(classes))  # Class positions\n",
        "bar_width = 0.35  # Bar width\n",
        "\n",
        "# create the plots\n",
        "fig, ax = plt.subplots(3, 1, figsize=(5, 6))\n",
        "\n",
        "# Precision\n",
        "ax[0].bar(x - bar_width / 2, comparison_df['Manual Precision'], bar_width, label='Manual Precision', color='blue')\n",
        "ax[0].bar(x + bar_width / 2, comparison_df['Sklearn Precision'], bar_width, label='Sklearn Precision', color='orange')\n",
        "ax[0].set_title('Precision')\n",
        "ax[0].set_xticks(x)\n",
        "ax[0].set_xticklabels(classes)\n",
        "ax[0].set_ylim(0, 1)\n",
        "ax[0].legend()\n",
        "\n",
        "# Recall\n",
        "ax[1].bar(x - bar_width / 2, comparison_df['Manual Recall'], bar_width, label='Manual Recall', color='green')\n",
        "ax[1].bar(x + bar_width / 2, comparison_df['Sklearn Recall'], bar_width, label='Sklearn Recall', color='red')\n",
        "ax[1].set_title('Recall')\n",
        "ax[1].set_xticks(x)\n",
        "ax[1].set_xticklabels(classes)\n",
        "ax[1].set_ylim(0, 1)\n",
        "ax[1].legend()\n",
        "\n",
        "# F1-Score\n",
        "ax[2].bar(x - bar_width / 2, comparison_df['Manual F1-Score'], bar_width, label='Manual F1-Score', color='purple')\n",
        "ax[2].bar(x + bar_width / 2, comparison_df['Sklearn F1-Score'], bar_width, label='Sklearn F1-Score', color='pink')\n",
        "ax[2].set_title('F1-Score')\n",
        "ax[2].set_xticks(x)\n",
        "ax[2].set_xticklabels(classes)\n",
        "ax[2].set_ylim(0, 1)\n",
        "ax[2].legend()\n",
        "\n",
        "plt.tight_layout()\n",
        "plt.show()\n"
      ]
    }
  ],
  "metadata": {
    "colab": {
      "provenance": []
    },
    "kernelspec": {
      "display_name": "Python 3",
      "name": "python3"
    },
    "language_info": {
      "name": "python"
    }
  },
  "nbformat": 4,
  "nbformat_minor": 0
}
